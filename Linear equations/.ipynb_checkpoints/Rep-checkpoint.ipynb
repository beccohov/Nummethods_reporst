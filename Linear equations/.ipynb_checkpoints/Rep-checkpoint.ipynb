{
 "cells": [
  {
   "cell_type": "markdown",
   "metadata": {},
   "source": [
    "### import numpy as np        "
   ]
  },
  {
   "cell_type": "code",
   "execution_count": 4,
   "metadata": {},
   "outputs": [],
   "source": [
    "# This function reorders rows of matrix\n",
    "# such that its non-zero elements moved to the top\n",
    "def reorder_rows(A,by_row):\n",
    "    assert by_row < A.shape[0], \"Incorrect call\" \n",
    "    A[by_row:,by_row:] = A[by_row:,by_row:][np.argsort(np.abs(A[by_row:,by_row:][:, 1]))]\n",
    "    return A   "
   ]
  },
  {
   "cell_type": "code",
   "execution_count": 5,
   "metadata": {},
   "outputs": [],
   "source": [
    "def Gauss(A, b, is_simple = False):\n",
    "    A_comp = np.hstack([A.astype('float64'),b.astype('float64')]) # General matrix\n",
    "    for i in range(A_comp.shape[0]-1):\n",
    "        if not is_simple:\n",
    "            A_comp = reorder_rows(A_comp, i) #With main element implementation\n",
    "        for j in range(i+1,A_comp.shape[0]):\n",
    "            coef = A_comp[j][i] / A_comp[i][i] # Non - zero diagonal element (guaranteed)\n",
    "            A_comp[j,:] -= coef*A_comp[i, :]\n",
    "    # Backprop\n",
    "    for i in range(A_comp.shape[0]-1, 0,-1):\n",
    "        for j in range(i - 1, -1,-1):\n",
    "            coef = A_comp[j][i] / A_comp[i][i]\n",
    "            A_comp[j,:] -= coef*A_comp[i,:]\n",
    "    det = 1\n",
    "    for i in range(A_comp.shape[0]):\n",
    "        det *= A_comp[i][i]\n",
    "    for i in range(A_comp.shape[0]):\n",
    "        A_comp[i,:] *= 1 / A_comp[i][i]\n",
    "    \n",
    "    return A_comp[:,-1], det\n",
    "    \n",
    "def get_inv(A):\n",
    "    E = np.eye(A.shape[0])\n",
    "    A_inv = Gauss(A,E[:,0].reshape(-1,1))[0].reshape(-1,1)\n",
    "    for i in range(1,A.shape[0]) :\n",
    "        A_inv = np.hstack([A_inv,Gauss(A, E[:,i].reshape(-1,1))[0].reshape(-1,1)])\n",
    "    return A_inv"
   ]
  },
  {
   "cell_type": "markdown",
   "metadata": {},
   "source": [
    "#####  Функция для записи матриц системы уравнений с клавиатуры"
   ]
  },
  {
   "cell_type": "code",
   "execution_count": 79,
   "metadata": {},
   "outputs": [],
   "source": [
    "def get_from_keyboard(n, m):\n",
    "    A = np.zeros((n,m))\n",
    "    for i in range(n):\n",
    "        for j in range(m):\n",
    "            A[i][j] = float(input())\n",
    "    print(\"Теперь правую часть сиситемы уравнений\\n\")\n",
    "    b = np.zeros(n);\n",
    "    for i in range(n):\n",
    "        b[i] = float(input())\n",
    "    b = b.reshape(-1,1)\n",
    "    return A, b"
   ]
  },
  {
   "cell_type": "code",
   "execution_count": null,
   "metadata": {},
   "outputs": [],
   "source": []
  },
  {
   "cell_type": "markdown",
   "metadata": {},
   "source": [
    "### Вариант 9"
   ]
  },
  {
   "cell_type": "markdown",
   "metadata": {},
   "source": [
    "<img src = \"task.png\">"
   ]
  },
  {
   "cell_type": "code",
   "execution_count": 163,
   "metadata": {},
   "outputs": [],
   "source": [
    "A1 = np.array([\n",
    "    [2,-5,3,1],\n",
    "    [3,-7,3,-1],\n",
    "    [5,-9,6,2],\n",
    "    [4,-6,3,1]\n",
    "])\n",
    "b1 = np.array([5, -1, 7, 8]).reshape(-1,1)\n",
    "A2 = np.array([\n",
    "    [4,3,-9,1],\n",
    "    [2,5,-8,-1],\n",
    "    [2,16,-14,2],\n",
    "    [2,3,-5,-11]\n",
    "])\n",
    "b2 = np.array([9, 8, 24, 7]).reshape(-1,1)\n",
    "A3 = np.array([\n",
    "    [12,14,-15,24],\n",
    "    [16, 18, -22, 29],\n",
    "    [18,20,-21,32],\n",
    "    [10,12,-16,20]\n",
    "])\n",
    "b3 = np.array([5,8,9,4]).reshape(-1,1)\n"
   ]
  },
  {
   "cell_type": "markdown",
   "metadata": {},
   "source": [
    "#### Сравним ответы"
   ]
  },
  {
   "cell_type": "code",
   "execution_count": null,
   "metadata": {},
   "outputs": [],
   "source": []
  },
  {
   "cell_type": "code",
   "execution_count": 27,
   "metadata": {
    "scrolled": true
   },
   "outputs": [
    {
     "name": "stdout",
     "output_type": "stream",
     "text": [
      "Ответы:  [ 0.         -3.         -5.33333333  6.        ]\n",
      "det(A): 18.0\n",
      "Верный ответ :  [[-1.33226763e-15 -3.00000000e+00 -5.33333333e+00  6.00000000e+00]]\n",
      "Верный определитель:  18.000000000000014\n",
      "Обратная матрица: [[-1.          0.          0.33333333  0.33333333]\n",
      " [-1.          0.          0.66666667 -0.33333333]\n",
      " [-1.          0.16666667  1.05555556 -0.94444444]\n",
      " [ 1.         -0.5        -0.5         0.5       ]]\n",
      "Верный ответ :  [[-1.          0.          0.33333333  0.33333333]\n",
      " [-1.         -0.          0.66666667 -0.33333333]\n",
      " [-1.          0.16666667  1.05555556 -0.94444444]\n",
      " [ 1.         -0.5        -0.5         0.5       ]]\n",
      "Число обусловленности матрицы:  48.80516821448774\n"
     ]
    }
   ],
   "source": [
    "answ = Gauss(A1,b1)\n",
    "print(\"Ответы: \", answ[0])\n",
    "print(\"det(A):\", answ[1])\n",
    "print(\"Верный ответ : \", np.linalg.inv(A1).dot(b1).reshape(1,-1))\n",
    "print(\"Верный определитель: \",np.linalg.det(A1))\n",
    "print(\"Обратная матрица:\", get_inv(A1))\n",
    "print(\"Верный ответ : \", np.linalg.inv(A1))\n",
    "print(\"Число обусловленности матрицы: \", np.linalg.norm(A1)*np.linalg.norm(get_inv(A1)))\n"
   ]
  },
  {
   "cell_type": "markdown",
   "metadata": {},
   "source": [
    "##### Верно"
   ]
  },
  {
   "cell_type": "code",
   "execution_count": null,
   "metadata": {},
   "outputs": [],
   "source": []
  },
  {
   "cell_type": "code",
   "execution_count": 28,
   "metadata": {},
   "outputs": [
    {
     "name": "stdout",
     "output_type": "stream",
     "text": [
      "Ответы:  [3.00000000e+00 2.00000000e+00 1.00000000e+00 7.16272919e-17]\n",
      "det(A): -867.9999999999995\n",
      "Верный ответ :  [[3. 2. 1. 0.]]\n",
      "Верный определитель:  -867.9999999999995\n",
      "Обратная матрица: [[ 0.68894009 -1.3640553   0.25345622  0.23271889]\n",
      " [ 0.11751152 -0.50691244  0.18202765  0.08986175]\n",
      " [ 0.23963134 -0.77880184  0.17511521  0.12442396]\n",
      " [ 0.0483871  -0.03225806  0.01612903 -0.08064516]]\n",
      "Верный ответ :  [[ 0.68894009 -1.3640553   0.25345622  0.23271889]\n",
      " [ 0.11751152 -0.50691244  0.18202765  0.08986175]\n",
      " [ 0.23963134 -0.77880184  0.17511521  0.12442396]\n",
      " [ 0.0483871  -0.03225806  0.01612903 -0.08064516]]\n",
      "Число обусловленности матрицы:  53.46443604446612\n"
     ]
    }
   ],
   "source": [
    "answ = Gauss(A2,b2)\n",
    "print(\"Ответы: \", answ[0])\n",
    "print(\"det(A):\", answ[1])\n",
    "print(\"Верный ответ : \", np.linalg.inv(A2).dot(b2).reshape(1,-1))\n",
    "print(\"Верный определитель: \",np.linalg.det(A2))\n",
    "print(\"Обратная матрица:\", get_inv(A2))\n",
    "print(\"Верный ответ : \", np.linalg.inv(A2))\n",
    "print(\"Число обусловленности матрицы: \", np.linalg.norm(A2)*np.linalg.norm(get_inv(A2)))"
   ]
  },
  {
   "cell_type": "markdown",
   "metadata": {},
   "source": [
    "##### Верно"
   ]
  },
  {
   "cell_type": "code",
   "execution_count": null,
   "metadata": {},
   "outputs": [],
   "source": []
  },
  {
   "cell_type": "code",
   "execution_count": 29,
   "metadata": {},
   "outputs": [
    {
     "name": "stdout",
     "output_type": "stream",
     "text": [
      "Ответы:  [ 2.22222222e+00 -1.66666667e+00 -1.11111111e-01 -5.55111512e-17]\n",
      "det(A): -36.00000000000019\n",
      "Верный ответ :  [[ 2.22222222e+00 -1.66666667e+00 -1.11111111e-01  1.77635684e-15]]\n",
      "Верный определитель:  36.000000000000256\n",
      "Обратная матрица: [[ 1.00000000e+00  2.88888889e+00 -1.66666667e+00 -2.72222222e+00]\n",
      " [-2.50000000e+00 -4.66666667e+00  3.50000000e+00  4.16666667e+00]\n",
      " [ 2.07241631e-15 -4.44444444e-01  3.33333333e-01  1.11111111e-01]\n",
      " [ 1.00000000e+00  1.00000000e+00 -1.00000000e+00 -1.00000000e+00]]\n",
      "Верный ответ :  [[ 1.00000000e+00  2.88888889e+00 -1.66666667e+00 -2.72222222e+00]\n",
      " [-2.50000000e+00 -4.66666667e+00  3.50000000e+00  4.16666667e+00]\n",
      " [ 1.77635684e-15 -4.44444444e-01  3.33333333e-01  1.11111111e-01]\n",
      " [ 1.00000000e+00  1.00000000e+00 -1.00000000e+00 -1.00000000e+00]]\n",
      "Число обусловленности матрицы:  707.0817701154682\n"
     ]
    }
   ],
   "source": [
    "answ = Gauss(A3,b3)\n",
    "print(\"Ответы: \", answ[0])\n",
    "print(\"det(A):\", answ[1])\n",
    "print(\"Верный ответ : \", np.linalg.inv(A3).dot(b3).reshape(1,-1))\n",
    "print(\"Верный определитель: \",np.linalg.det(A3))\n",
    "print(\"Обратная матрица:\", get_inv(A3))\n",
    "print(\"Верный ответ : \", np.linalg.inv(A3))\n",
    "print(\"Число обусловленности матрицы: \", np.linalg.norm(A3)*np.linalg.norm(get_inv(A3)))"
   ]
  },
  {
   "cell_type": "markdown",
   "metadata": {},
   "source": [
    "#####  Верно"
   ]
  },
  {
   "cell_type": "code",
   "execution_count": null,
   "metadata": {},
   "outputs": [],
   "source": []
  },
  {
   "cell_type": "code",
   "execution_count": 30,
   "metadata": {},
   "outputs": [],
   "source": [
    "B = np.array([\n",
    "    [1,4,5],\n",
    "    [0,9,1],\n",
    "    [0,5,5]\n",
    "])\n",
    "b = np.array([1,2,3]).reshape(-1,1) "
   ]
  },
  {
   "cell_type": "code",
   "execution_count": null,
   "metadata": {},
   "outputs": [],
   "source": []
  },
  {
   "cell_type": "code",
   "execution_count": 31,
   "metadata": {},
   "outputs": [
    {
     "name": "stdout",
     "output_type": "stream",
     "text": [
      "Ответы:  [-1.825  0.175  0.425]\n",
      "det(A): 40.0\n",
      "Верный ответ :  [[-1.825  0.175  0.425]]\n",
      "Верный определитель:  40.000000000000014\n",
      "Обратная матрица: [[ 1.     0.125 -1.025]\n",
      " [ 0.     0.125 -0.025]\n",
      " [ 0.    -0.125  0.225]]\n",
      "Верный ответ :  [[ 1.     0.125 -1.025]\n",
      " [ 0.     0.125 -0.025]\n",
      " [ 0.    -0.125  0.225]]\n",
      "Число обусловленности матрицы:  19.336041476993167\n"
     ]
    }
   ],
   "source": [
    "answ = Gauss(B,b)\n",
    "print(\"Ответы: \", answ[0])\n",
    "print(\"det(A):\", answ[1])\n",
    "print(\"Верный ответ : \", np.linalg.inv(B).dot(b).reshape(1,-1))\n",
    "print(\"Верный определитель: \",np.linalg.det(B))\n",
    "print(\"Обратная матрица:\", get_inv(B))\n",
    "print(\"Верный ответ : \", np.linalg.inv(B))\n",
    "print(\"Число обусловленности матрицы: \", np.linalg.norm(B)*np.linalg.norm(get_inv(B)))"
   ]
  },
  {
   "cell_type": "markdown",
   "metadata": {},
   "source": [
    "##### Верно"
   ]
  },
  {
   "cell_type": "code",
   "execution_count": 92,
   "metadata": {},
   "outputs": [],
   "source": [
    "B = np.array([\n",
    "    [1,4,5],\n",
    "    [0,7,1],\n",
    "    [0,7,5]\n",
    "])\n",
    "b = np.array([1,2,3]).reshape(-1,1) "
   ]
  },
  {
   "cell_type": "code",
   "execution_count": null,
   "metadata": {},
   "outputs": [],
   "source": []
  },
  {
   "cell_type": "code",
   "execution_count": 33,
   "metadata": {},
   "outputs": [
    {
     "name": "stdout",
     "output_type": "stream",
     "text": [
      "Ответы:  [-1.25  0.25  0.25]\n",
      "det(A): 28.0\n",
      "Верный ответ :  [[-1.25  0.25  0.25]]\n",
      "Верный определитель:  27.999999999999996\n",
      "Обратная матрица: [[ 1.          0.53571429 -1.10714286]\n",
      " [ 0.          0.17857143 -0.03571429]\n",
      " [ 0.         -0.25        0.25      ]]\n",
      "Верный ответ :  [[ 1.          0.53571429 -1.10714286]\n",
      " [ 0.          0.17857143 -0.03571429]\n",
      " [ 0.         -0.25        0.25      ]]\n",
      "Число обусловленности матрицы:  21.056411113473064\n"
     ]
    }
   ],
   "source": [
    "answ = Gauss(B,b)\n",
    "print(\"Ответы: \", answ[0])\n",
    "print(\"det(A):\", answ[1])\n",
    "print(\"Верный ответ : \", np.linalg.inv(B).dot(b).reshape(1,-1))\n",
    "print(\"Верный определитель: \",np.linalg.det(B))\n",
    "print(\"Обратная матрица:\", get_inv(B))\n",
    "print(\"Верный ответ : \", np.linalg.inv(B))\n",
    "print(\"Число обусловленности матрицы: \", np.linalg.norm(B)*np.linalg.norm(get_inv(B)))\n"
   ]
  },
  {
   "cell_type": "markdown",
   "metadata": {},
   "source": [
    "#####  Верно"
   ]
  },
  {
   "cell_type": "code",
   "execution_count": null,
   "metadata": {},
   "outputs": [],
   "source": []
  },
  {
   "cell_type": "markdown",
   "metadata": {},
   "source": [
    "# Сгенерируем матрицу согласно варианту и исследуем устойчивость метода Гаусса"
   ]
  },
  {
   "cell_type": "markdown",
   "metadata": {},
   "source": [
    "<h2> Используется вариант 2</h2>\n",
    "<img src = \"task2.png\">"
   ]
  },
  {
   "cell_type": "code",
   "execution_count": 177,
   "metadata": {},
   "outputs": [],
   "source": [
    "def generate_matrixes(size):\n",
    "    A = np.zeros((size,size), dtype = 'float32')\n",
    "    for i in range(size):\n",
    "        # According to my homework\n",
    "        m = 8\n",
    "        n = 20\n",
    "        \n",
    "        for j in range(size):\n",
    "            if i == j:\n",
    "                A[i][j] = n + m*m + float(j)/m + float(i)/n\n",
    "            else:\n",
    "                A[i][j] = (i+j)/(m+n)\n",
    "    #filling right side\n",
    "    b = np.array([])\n",
    "    for i in range(size):\n",
    "        b = np.append(b, 20 + 50*i)\n",
    "    return A, b.reshape(-1,1)\n",
    "    "
   ]
  },
  {
   "cell_type": "code",
   "execution_count": 35,
   "metadata": {},
   "outputs": [],
   "source": [
    "A,b = generate_matrixes(20)"
   ]
  },
  {
   "cell_type": "code",
   "execution_count": 37,
   "metadata": {},
   "outputs": [
    {
     "name": "stdout",
     "output_type": "stream",
     "text": [
      "Ответы:  [-0.30866362  0.2448342   0.7969705   1.34775019  1.89717847  2.44526\n",
      "  2.99199986  3.53740328  4.08147457  4.62421929  5.16564151  5.70574642\n",
      "  6.24453937  6.78202407  7.31820645  7.85308998  8.38667999  8.91898193\n",
      "  9.44999894  9.97973729]\n",
      "det(A): 4.464076826452955e+38\n",
      "Верный ответ :  [[-0.30866361  0.24483421  0.7969705   1.34775023  1.89717852  2.44526012\n",
      "   2.99199978  3.53740322  4.08147457  4.62421927  5.16564145  5.70574621\n",
      "   6.24453933  6.7820241   7.31820621  7.85308985  8.38668031  8.91898215\n",
      "   9.44999928  9.97973694]]\n",
      "Верный определитель:  inf\n",
      "Число обусловленности матрицы:  20.053848472804876\n"
     ]
    }
   ],
   "source": [
    "answ = Gauss(A,b)\n",
    "print(\"Ответы: \", answ[0])\n",
    "print(\"det(A):\", answ[1])\n",
    "print(\"Верный ответ : \", np.linalg.inv(A).dot(b).reshape(1,-1))\n",
    "print(\"Верный определитель: \",np.linalg.det(A))\n",
    "print(\"Число обусловленности матрицы: \", np.linalg.norm(A)*np.linalg.norm(get_inv(A)))"
   ]
  },
  {
   "cell_type": "markdown",
   "metadata": {},
   "source": [
    "##### Исследуем вычислительную устойчивость алгоритма"
   ]
  },
  {
   "cell_type": "code",
   "execution_count": null,
   "metadata": {},
   "outputs": [],
   "source": []
  },
  {
   "cell_type": "markdown",
   "metadata": {},
   "source": [
    "##### Сгенерируем диагональную матрицу с небольшими  собственными значениями"
   ]
  },
  {
   "cell_type": "code",
   "execution_count": 51,
   "metadata": {},
   "outputs": [],
   "source": [
    "D = np.diag([np.random.normal(0.001,0.1) for i in range(50)])"
   ]
  },
  {
   "cell_type": "markdown",
   "metadata": {},
   "source": [
    "##### Сгенерируем случайную (невырожденную) матрицу того же размера"
   ]
  },
  {
   "cell_type": "code",
   "execution_count": 55,
   "metadata": {},
   "outputs": [],
   "source": [
    "R = np.random.rand(50,50)"
   ]
  },
  {
   "cell_type": "code",
   "execution_count": null,
   "metadata": {},
   "outputs": [],
   "source": []
  },
  {
   "cell_type": "markdown",
   "metadata": {},
   "source": [
    "##### Сделаем переход в диагональной матрице к другому базису, чтобы получить матрицу с теми же собственными значениями, но не диагональную"
   ]
  },
  {
   "cell_type": "code",
   "execution_count": 65,
   "metadata": {},
   "outputs": [],
   "source": [
    "M = np.linalg.inv(R).dot(D).dot(R)"
   ]
  },
  {
   "cell_type": "code",
   "execution_count": 67,
   "metadata": {},
   "outputs": [
    {
     "data": {
      "text/plain": [
       "216078.77062024968"
      ]
     },
     "execution_count": 67,
     "metadata": {},
     "output_type": "execute_result"
    }
   ],
   "source": [
    "np.linalg.norm(M)*np.linalg.norm(get_inv(M))"
   ]
  },
  {
   "cell_type": "markdown",
   "metadata": {},
   "source": [
    "##### Видно, что она достаточно плохо обусловлена . Найдем решение с правой частью равной единицам."
   ]
  },
  {
   "cell_type": "code",
   "execution_count": 70,
   "metadata": {},
   "outputs": [],
   "source": [
    "x_0 = Gauss(M,np.ones((50,1)))"
   ]
  },
  {
   "cell_type": "markdown",
   "metadata": {},
   "source": [
    "#####  \"Возмутим\" правую часть "
   ]
  },
  {
   "cell_type": "code",
   "execution_count": 71,
   "metadata": {},
   "outputs": [],
   "source": [
    "x_1 = Gauss(M,np.ones((50,1))+0.01)"
   ]
  },
  {
   "cell_type": "markdown",
   "metadata": {},
   "source": [
    "#####  Полученная относительная \"погрешность\" :"
   ]
  },
  {
   "cell_type": "code",
   "execution_count": 76,
   "metadata": {},
   "outputs": [
    {
     "data": {
      "text/plain": [
       "98224.26434921645"
      ]
     },
     "execution_count": 76,
     "metadata": {},
     "output_type": "execute_result"
    }
   ],
   "source": [
    "np.linalg.norm(x_1[0] - x_0[0]).sum()/0.01"
   ]
  },
  {
   "cell_type": "markdown",
   "metadata": {},
   "source": [
    "##### Таким образом, метод Гаусса не является вычислительно устойчивым"
   ]
  },
  {
   "cell_type": "code",
   "execution_count": 77,
   "metadata": {},
   "outputs": [],
   "source": []
  },
  {
   "cell_type": "code",
   "execution_count": null,
   "metadata": {},
   "outputs": [],
   "source": []
  },
  {
   "cell_type": "code",
   "execution_count": null,
   "metadata": {},
   "outputs": [],
   "source": []
  },
  {
   "cell_type": "code",
   "execution_count": null,
   "metadata": {},
   "outputs": [],
   "source": []
  },
  {
   "cell_type": "code",
   "execution_count": null,
   "metadata": {},
   "outputs": [],
   "source": []
  },
  {
   "cell_type": "code",
   "execution_count": null,
   "metadata": {},
   "outputs": [],
   "source": []
  },
  {
   "cell_type": "code",
   "execution_count": 195,
   "metadata": {},
   "outputs": [],
   "source": [
    "def SeidelGauss_step(x_0, A, b): # Для удобства реализации метода верхней релаксации \n",
    "    x_new = np.zeros_like(x_0) # используем метод Гаусса - Зейделя\n",
    "    for i in range(A.shape[0]):\n",
    "        s1 = np.dot(A[i, :i], x_new[:i])\n",
    "        s2 = np.dot(A[i, i + 1 :], x[i + 1 :])\n",
    "        x_new[i] = (b[i] - s1 - s2) / A[i, i]\n",
    "    return x_new\n",
    "def relaxation_step(x_0, A, b, w): # Получить следующее приближение\n",
    "    z = SeidelGauss_step(x_0, A, b)\n",
    "    x_new = (1-w)*x_0 + w*z\n",
    "    return x_new\n",
    "def RelaxationSolve(A, b, w, x_0 = None, max_iterations = 1000, tol = 10e-6):\n",
    "    if x_0: # Если начальноеп риближение не задано, то\n",
    "        x = x_0 # В качестве начального приближения используем нули\n",
    "    else:\n",
    "        x = np.zeros_like(A[0,:])\n",
    "    for i in range(max_iterations):\n",
    "        x_neu = relaxation_step(x, A, b, w)\n",
    "        if np.allclose(x_neu, x, rtol =tol): # Если достигнута сходимость с нужной точностью, то ответ готов\n",
    "            return x_neu, i\n",
    "        x = x_neu\n",
    "    return x_neu, max_iterations"
   ]
  },
  {
   "cell_type": "code",
   "execution_count": null,
   "metadata": {},
   "outputs": [],
   "source": [
    "\n"
   ]
  },
  {
   "cell_type": "markdown",
   "metadata": {},
   "source": [
    "#####  Теперь проверим работу алгоритма"
   ]
  },
  {
   "cell_type": "code",
   "execution_count": null,
   "metadata": {},
   "outputs": [],
   "source": []
  },
  {
   "cell_type": "code",
   "execution_count": 171,
   "metadata": {},
   "outputs": [
    {
     "name": "stdout",
     "output_type": "stream",
     "text": [
      "Iteration 1: [[0]\n",
      " [0]\n",
      " [0]\n",
      " [0]]\n",
      "Iteration 2: [[0]\n",
      " [0]\n",
      " [0]\n",
      " [1]]\n",
      "Solution: [[0]\n",
      " [0]\n",
      " [0]\n",
      " [1]]\n",
      "Error: [[-4]\n",
      " [ 0]\n",
      " [-5]\n",
      " [-7]]\n"
     ]
    }
   ],
   "source": [
    "x = np.zeros_like(b1)\n",
    "for it_count in range(1, 1000):\n",
    "    x_new = np.zeros_like(x)\n",
    "    print(\"Iteration {0}: {1}\".format(it_count, x))\n",
    "    for i in range(A.shape[0]):\n",
    "        s1 = np.dot(A1[i, :i], x_new[:i])\n",
    "        s2 = np.dot(A1[i, i + 1 :], x[i + 1 :])\n",
    "        x_new[i] = (b1[i] - s1 - s2) / A[i, i]\n",
    "    if np.allclose(x, x_new, rtol=1e-8):\n",
    "        break\n",
    "    x = x_new\n",
    "\n",
    "print(\"Solution: {0}\".format(x))\n",
    "error = np.dot(A1, x) - b1\n",
    "print(\"Error: {0}\".format(error))"
   ]
  },
  {
   "cell_type": "code",
   "execution_count": 176,
   "metadata": {},
   "outputs": [
    {
     "data": {
      "text/plain": [
       "(array([-39.73830007,  -1.26612846,  24.0945468 ,  45.90988173]),\n",
       " array([[-0.27213929,  0.75679166, -0.15842153,  0.57280817],\n",
       "        [-0.28993799, -0.65321986, -0.16307233,  0.68018174],\n",
       "        [ 0.855052  ,  0.01114731, -0.44321742,  0.26892402],\n",
       "        [ 0.33280962,  0.02111708,  0.86710342,  0.37003173]]))"
      ]
     },
     "execution_count": 176,
     "metadata": {},
     "output_type": "execute_result"
    }
   ],
   "source": [
    "np.linalg.eigh(A3)"
   ]
  },
  {
   "cell_type": "code",
   "execution_count": 173,
   "metadata": {},
   "outputs": [
    {
     "data": {
      "text/plain": [
       "array([[ 5],\n",
       "       [-1],\n",
       "       [ 7],\n",
       "       [ 8]])"
      ]
     },
     "execution_count": 173,
     "metadata": {},
     "output_type": "execute_result"
    }
   ],
   "source": [
    "b1"
   ]
  },
  {
   "cell_type": "code",
   "execution_count": 189,
   "metadata": {},
   "outputs": [],
   "source": [
    "A,b = generate_matrixes(3)"
   ]
  },
  {
   "cell_type": "code",
   "execution_count": 192,
   "metadata": {},
   "outputs": [
    {
     "name": "stdout",
     "output_type": "stream",
     "text": [
      "(0,) (0,)\n"
     ]
    },
    {
     "ename": "ValueError",
     "evalue": "shapes (2,) and (3,1) not aligned: 2 (dim 0) != 3 (dim 0)",
     "output_type": "error",
     "traceback": [
      "\u001b[1;31m---------------------------------------------------------------------------\u001b[0m",
      "\u001b[1;31mValueError\u001b[0m                                Traceback (most recent call last)",
      "\u001b[1;32m<ipython-input-192-cf2f9b6d75cb>\u001b[0m in \u001b[0;36m<module>\u001b[1;34m\u001b[0m\n\u001b[1;32m----> 1\u001b[1;33m \u001b[0mansw\u001b[0m \u001b[1;33m=\u001b[0m \u001b[0mRelaxationSolve\u001b[0m\u001b[1;33m(\u001b[0m\u001b[0mA\u001b[0m\u001b[1;33m,\u001b[0m\u001b[0mb\u001b[0m\u001b[1;33m,\u001b[0m\u001b[1;36m1.2\u001b[0m\u001b[1;33m)\u001b[0m\u001b[1;33m\u001b[0m\u001b[1;33m\u001b[0m\u001b[0m\n\u001b[0m\u001b[0;32m      2\u001b[0m \u001b[0mprint\u001b[0m\u001b[1;33m(\u001b[0m\u001b[1;34m\"Ответы: \"\u001b[0m\u001b[1;33m,\u001b[0m \u001b[0mansw\u001b[0m\u001b[1;33m[\u001b[0m\u001b[1;36m0\u001b[0m\u001b[1;33m]\u001b[0m\u001b[1;33m)\u001b[0m\u001b[1;33m\u001b[0m\u001b[1;33m\u001b[0m\u001b[0m\n\u001b[0;32m      3\u001b[0m \u001b[0mprint\u001b[0m\u001b[1;33m(\u001b[0m\u001b[1;34m\"Верный ответ : \"\u001b[0m\u001b[1;33m,\u001b[0m \u001b[0mnp\u001b[0m\u001b[1;33m.\u001b[0m\u001b[0mlinalg\u001b[0m\u001b[1;33m.\u001b[0m\u001b[0minv\u001b[0m\u001b[1;33m(\u001b[0m\u001b[0mA\u001b[0m\u001b[1;33m)\u001b[0m\u001b[1;33m.\u001b[0m\u001b[0mdot\u001b[0m\u001b[1;33m(\u001b[0m\u001b[0mb\u001b[0m\u001b[1;33m)\u001b[0m\u001b[1;33m.\u001b[0m\u001b[0mreshape\u001b[0m\u001b[1;33m(\u001b[0m\u001b[1;36m1\u001b[0m\u001b[1;33m,\u001b[0m\u001b[1;33m-\u001b[0m\u001b[1;36m1\u001b[0m\u001b[1;33m)\u001b[0m\u001b[1;33m)\u001b[0m\u001b[1;33m\u001b[0m\u001b[1;33m\u001b[0m\u001b[0m\n\u001b[0;32m      4\u001b[0m \u001b[0mprint\u001b[0m\u001b[1;33m(\u001b[0m\u001b[1;34m\"Число обусловленности матрицы: \"\u001b[0m\u001b[1;33m,\u001b[0m \u001b[0mnp\u001b[0m\u001b[1;33m.\u001b[0m\u001b[0mlinalg\u001b[0m\u001b[1;33m.\u001b[0m\u001b[0mnorm\u001b[0m\u001b[1;33m(\u001b[0m\u001b[0mA\u001b[0m\u001b[1;33m)\u001b[0m\u001b[1;33m*\u001b[0m\u001b[0mnp\u001b[0m\u001b[1;33m.\u001b[0m\u001b[0mlinalg\u001b[0m\u001b[1;33m.\u001b[0m\u001b[0mnorm\u001b[0m\u001b[1;33m(\u001b[0m\u001b[0mget_inv\u001b[0m\u001b[1;33m(\u001b[0m\u001b[0mA\u001b[0m\u001b[1;33m)\u001b[0m\u001b[1;33m)\u001b[0m\u001b[1;33m)\u001b[0m\u001b[1;33m\u001b[0m\u001b[1;33m\u001b[0m\u001b[0m\n",
      "\u001b[1;32m<ipython-input-191-d00d74aae13f>\u001b[0m in \u001b[0;36mRelaxationSolve\u001b[1;34m(A, b, w, x_0, max_iterations, tol)\u001b[0m\n\u001b[0;32m     17\u001b[0m         \u001b[0mx\u001b[0m \u001b[1;33m=\u001b[0m \u001b[0mnp\u001b[0m\u001b[1;33m.\u001b[0m\u001b[0mzeros_like\u001b[0m\u001b[1;33m(\u001b[0m\u001b[0mA\u001b[0m\u001b[1;33m[\u001b[0m\u001b[1;36m0\u001b[0m\u001b[1;33m,\u001b[0m\u001b[1;33m:\u001b[0m\u001b[1;33m]\u001b[0m\u001b[1;33m)\u001b[0m\u001b[1;33m\u001b[0m\u001b[1;33m\u001b[0m\u001b[0m\n\u001b[0;32m     18\u001b[0m     \u001b[1;32mfor\u001b[0m \u001b[0mi\u001b[0m \u001b[1;32min\u001b[0m \u001b[0mrange\u001b[0m\u001b[1;33m(\u001b[0m\u001b[0mmax_iterations\u001b[0m\u001b[1;33m)\u001b[0m\u001b[1;33m:\u001b[0m\u001b[1;33m\u001b[0m\u001b[1;33m\u001b[0m\u001b[0m\n\u001b[1;32m---> 19\u001b[1;33m         \u001b[0mx_neu\u001b[0m \u001b[1;33m=\u001b[0m \u001b[0mrelaxation_step\u001b[0m\u001b[1;33m(\u001b[0m\u001b[0mx\u001b[0m\u001b[1;33m,\u001b[0m \u001b[0mA\u001b[0m\u001b[1;33m,\u001b[0m \u001b[0mb\u001b[0m\u001b[1;33m,\u001b[0m \u001b[0mw\u001b[0m\u001b[1;33m)\u001b[0m\u001b[1;33m\u001b[0m\u001b[1;33m\u001b[0m\u001b[0m\n\u001b[0m\u001b[0;32m     20\u001b[0m         \u001b[1;32mif\u001b[0m \u001b[0mnp\u001b[0m\u001b[1;33m.\u001b[0m\u001b[0mallclose\u001b[0m\u001b[1;33m(\u001b[0m\u001b[0mx_neu\u001b[0m\u001b[1;33m,\u001b[0m \u001b[0mx\u001b[0m\u001b[1;33m,\u001b[0m \u001b[0mrtol\u001b[0m \u001b[1;33m=\u001b[0m\u001b[0mtol\u001b[0m\u001b[1;33m)\u001b[0m\u001b[1;33m:\u001b[0m \u001b[1;31m# Если достигнута сходимость с нужной точностью, то ответ готов\u001b[0m\u001b[1;33m\u001b[0m\u001b[1;33m\u001b[0m\u001b[0m\n\u001b[0;32m     21\u001b[0m             \u001b[1;32mreturn\u001b[0m \u001b[0mx_neu\u001b[0m\u001b[1;33m,\u001b[0m \u001b[0mi\u001b[0m\u001b[1;33m\u001b[0m\u001b[1;33m\u001b[0m\u001b[0m\n",
      "\u001b[1;32m<ipython-input-191-d00d74aae13f>\u001b[0m in \u001b[0;36mrelaxation_step\u001b[1;34m(x_0, A, b, w)\u001b[0m\n\u001b[0;32m      8\u001b[0m     \u001b[1;32mreturn\u001b[0m \u001b[0mx_new\u001b[0m\u001b[1;33m\u001b[0m\u001b[1;33m\u001b[0m\u001b[0m\n\u001b[0;32m      9\u001b[0m \u001b[1;32mdef\u001b[0m \u001b[0mrelaxation_step\u001b[0m\u001b[1;33m(\u001b[0m\u001b[0mx_0\u001b[0m\u001b[1;33m,\u001b[0m \u001b[0mA\u001b[0m\u001b[1;33m,\u001b[0m \u001b[0mb\u001b[0m\u001b[1;33m,\u001b[0m \u001b[0mw\u001b[0m\u001b[1;33m)\u001b[0m\u001b[1;33m:\u001b[0m \u001b[1;31m# Получить следующее приближение\u001b[0m\u001b[1;33m\u001b[0m\u001b[1;33m\u001b[0m\u001b[0m\n\u001b[1;32m---> 10\u001b[1;33m     \u001b[0mz\u001b[0m \u001b[1;33m=\u001b[0m \u001b[0mSeidelGauss_step\u001b[0m\u001b[1;33m(\u001b[0m\u001b[0mx_0\u001b[0m\u001b[1;33m,\u001b[0m \u001b[0mA\u001b[0m\u001b[1;33m,\u001b[0m \u001b[0mb\u001b[0m\u001b[1;33m)\u001b[0m\u001b[1;33m\u001b[0m\u001b[1;33m\u001b[0m\u001b[0m\n\u001b[0m\u001b[0;32m     11\u001b[0m     \u001b[0mx_new\u001b[0m \u001b[1;33m=\u001b[0m \u001b[1;33m(\u001b[0m\u001b[1;36m1\u001b[0m\u001b[1;33m-\u001b[0m\u001b[0mw\u001b[0m\u001b[1;33m)\u001b[0m\u001b[1;33m*\u001b[0m\u001b[0mx_0\u001b[0m \u001b[1;33m+\u001b[0m \u001b[0mw\u001b[0m\u001b[1;33m*\u001b[0m\u001b[0mz\u001b[0m\u001b[1;33m\u001b[0m\u001b[1;33m\u001b[0m\u001b[0m\n\u001b[0;32m     12\u001b[0m     \u001b[1;32mreturn\u001b[0m \u001b[0mx_new\u001b[0m\u001b[1;33m\u001b[0m\u001b[1;33m\u001b[0m\u001b[0m\n",
      "\u001b[1;32m<ipython-input-191-d00d74aae13f>\u001b[0m in \u001b[0;36mSeidelGauss_step\u001b[1;34m(x_0, A, b)\u001b[0m\n\u001b[0;32m      4\u001b[0m         \u001b[0mprint\u001b[0m\u001b[1;33m(\u001b[0m\u001b[0mA\u001b[0m\u001b[1;33m[\u001b[0m\u001b[0mi\u001b[0m\u001b[1;33m,\u001b[0m \u001b[1;33m:\u001b[0m\u001b[0mi\u001b[0m\u001b[1;33m]\u001b[0m\u001b[1;33m.\u001b[0m\u001b[0mshape\u001b[0m\u001b[1;33m,\u001b[0m \u001b[0mx_new\u001b[0m\u001b[1;33m[\u001b[0m\u001b[1;33m:\u001b[0m\u001b[0mi\u001b[0m\u001b[1;33m]\u001b[0m\u001b[1;33m.\u001b[0m\u001b[0mshape\u001b[0m\u001b[1;33m)\u001b[0m\u001b[1;33m\u001b[0m\u001b[1;33m\u001b[0m\u001b[0m\n\u001b[0;32m      5\u001b[0m         \u001b[0ms1\u001b[0m \u001b[1;33m=\u001b[0m \u001b[0mnp\u001b[0m\u001b[1;33m.\u001b[0m\u001b[0mdot\u001b[0m\u001b[1;33m(\u001b[0m\u001b[0mA\u001b[0m\u001b[1;33m[\u001b[0m\u001b[0mi\u001b[0m\u001b[1;33m,\u001b[0m \u001b[1;33m:\u001b[0m\u001b[0mi\u001b[0m\u001b[1;33m]\u001b[0m\u001b[1;33m,\u001b[0m \u001b[0mx_new\u001b[0m\u001b[1;33m[\u001b[0m\u001b[1;33m:\u001b[0m\u001b[0mi\u001b[0m\u001b[1;33m]\u001b[0m\u001b[1;33m)\u001b[0m\u001b[1;33m\u001b[0m\u001b[1;33m\u001b[0m\u001b[0m\n\u001b[1;32m----> 6\u001b[1;33m         \u001b[0ms2\u001b[0m \u001b[1;33m=\u001b[0m \u001b[0mnp\u001b[0m\u001b[1;33m.\u001b[0m\u001b[0mdot\u001b[0m\u001b[1;33m(\u001b[0m\u001b[0mA\u001b[0m\u001b[1;33m[\u001b[0m\u001b[0mi\u001b[0m\u001b[1;33m,\u001b[0m \u001b[0mi\u001b[0m \u001b[1;33m+\u001b[0m \u001b[1;36m1\u001b[0m \u001b[1;33m:\u001b[0m\u001b[1;33m]\u001b[0m\u001b[1;33m,\u001b[0m \u001b[0mx\u001b[0m\u001b[1;33m[\u001b[0m\u001b[0mi\u001b[0m \u001b[1;33m+\u001b[0m \u001b[1;36m1\u001b[0m \u001b[1;33m:\u001b[0m\u001b[1;33m]\u001b[0m\u001b[1;33m)\u001b[0m\u001b[1;33m\u001b[0m\u001b[1;33m\u001b[0m\u001b[0m\n\u001b[0m\u001b[0;32m      7\u001b[0m         \u001b[0mx_new\u001b[0m\u001b[1;33m[\u001b[0m\u001b[0mi\u001b[0m\u001b[1;33m]\u001b[0m \u001b[1;33m=\u001b[0m \u001b[1;33m(\u001b[0m\u001b[0mb\u001b[0m\u001b[1;33m[\u001b[0m\u001b[0mi\u001b[0m\u001b[1;33m]\u001b[0m \u001b[1;33m-\u001b[0m \u001b[0ms1\u001b[0m \u001b[1;33m-\u001b[0m \u001b[0ms2\u001b[0m\u001b[1;33m)\u001b[0m \u001b[1;33m/\u001b[0m \u001b[0mA\u001b[0m\u001b[1;33m[\u001b[0m\u001b[0mi\u001b[0m\u001b[1;33m,\u001b[0m \u001b[0mi\u001b[0m\u001b[1;33m]\u001b[0m\u001b[1;33m\u001b[0m\u001b[1;33m\u001b[0m\u001b[0m\n\u001b[0;32m      8\u001b[0m     \u001b[1;32mreturn\u001b[0m \u001b[0mx_new\u001b[0m\u001b[1;33m\u001b[0m\u001b[1;33m\u001b[0m\u001b[0m\n",
      "\u001b[1;32m<__array_function__ internals>\u001b[0m in \u001b[0;36mdot\u001b[1;34m(*args, **kwargs)\u001b[0m\n",
      "\u001b[1;31mValueError\u001b[0m: shapes (2,) and (3,1) not aligned: 2 (dim 0) != 3 (dim 0)"
     ]
    }
   ],
   "source": [
    "answ = RelaxationSolve(A,b,1.2)\n",
    "print(\"Ответы: \", answ[0])\n",
    "print(\"Верный ответ : \", np.linalg.inv(A).dot(b).reshape(1,-1))\n",
    "print(\"Число обусловленности матрицы: \", np.linalg.norm(A)*np.linalg.norm(get_inv(A)))"
   ]
  },
  {
   "cell_type": "code",
   "execution_count": 187,
   "metadata": {},
   "outputs": [
    {
     "data": {
      "text/plain": [
       "(5, 5)"
      ]
     },
     "execution_count": 187,
     "metadata": {},
     "output_type": "execute_result"
    }
   ],
   "source": [
    "A.shape"
   ]
  },
  {
   "cell_type": "code",
   "execution_count": 194,
   "metadata": {},
   "outputs": [
    {
     "data": {
      "text/plain": [
       "array([ 20.,  70., 120.])"
      ]
     },
     "execution_count": 194,
     "metadata": {},
     "output_type": "execute_result"
    }
   ],
   "source": [
    "b.reshape(1,-1)[0]"
   ]
  },
  {
   "cell_type": "code",
   "execution_count": null,
   "metadata": {},
   "outputs": [],
   "source": []
  }
 ],
 "metadata": {
  "kernelspec": {
   "display_name": "Python 3",
   "language": "python",
   "name": "python3"
  },
  "language_info": {
   "codemirror_mode": {
    "name": "ipython",
    "version": 3
   },
   "file_extension": ".py",
   "mimetype": "text/x-python",
   "name": "python",
   "nbconvert_exporter": "python",
   "pygments_lexer": "ipython3",
   "version": "3.7.3"
  }
 },
 "nbformat": 4,
 "nbformat_minor": 4
}
